{
 "cells": [
  {
   "cell_type": "markdown",
   "id": "07010101",
   "metadata": {},
   "source": [
    "Importing all the required packages for the web scraping"
   ]
  },
  {
   "cell_type": "code",
   "execution_count": 2,
   "id": "9bdcefce",
   "metadata": {},
   "outputs": [],
   "source": [
    "#import\n",
    "import requests \n",
    "from bs4 import BeautifulSoup\n",
    "import pandas as pd\n",
    "import numpy as np\n",
    "import re\n",
    "import datetime\n",
    "from urllib.error import URLError\n",
    "import logging\n",
    "import concurrent.futures\n",
    "from multiprocessing.dummy import Pool as ThreadPool\n",
    "import time"
   ]
  },
  {
   "cell_type": "markdown",
   "id": "fa342d12",
   "metadata": {},
   "source": [
    "Defining class as AI_Dev_project and defining methods under the class for each purpose\n",
    "\n",
    "\n",
    "News parse- It will web scrape all the descriptions of each news from page 1 to 30 ans save it in news.csv\n",
    "\n",
    "search stock - It will scrape all the toronto stock exchange symbols from the description of the dataframe\n",
    "\n",
    "storing stock symbols - It will scrape the symbols and create a list of unique values of all the TSX symbols"
   ]
  },
  {
   "cell_type": "code",
   "execution_count": 3,
   "id": "526f5b5c",
   "metadata": {},
   "outputs": [],
   "source": [
    "class AI_Dev_project:\n",
    "    def __init__(self,webpage): # main instance\n",
    "        self.webpage=webpage  #storing the webpage as instance to be called later on from other methods\n",
    "    def news_parse(self):  # method1 for new parsing\n",
    "        data=[]\n",
    "        start_time_1=time.time()\n",
    "        try:\n",
    "            response=requests.get(self.webpage)\n",
    "        except:\n",
    "            print(\"Error found\")  \n",
    "        else:\n",
    "            print(\"connection successfull\")\n",
    "            for i in range(31):  # parsing first 30 pages\n",
    "                link = self.webpage + str(i)  # appending page numbers from 1 to 30\n",
    "                soup = requests.get(link)  # scraping\n",
    "                logging.warning('Page {} scraping. Please wait !!!'.format(i))\n",
    "                soup = BeautifulSoup(soup.content, 'html.parser')\n",
    "                for j in soup.find_all('p',class_=\"remove-outline\"): # desciption is stored in p class in the html parsed soup\n",
    "                    data.append(j)\n",
    "                    \n",
    "            self.df=pd.DataFrame(data,columns=['News description'])   # storing in dataframe\n",
    "            self.df.to_csv('../data_storage/datanews.csv')            #writing a csv\n",
    "            print('Time taken:',time.time()-start_time_1)\n",
    "        return self.df\n"
   ]
  },
  {
   "cell_type": "code",
   "execution_count": 4,
   "id": "cbe94271",
   "metadata": {},
   "outputs": [],
   "source": [
    "obj=AI_Dev_project('https://www.prnewswire.com/news-releases/news-releases-list/?page=')"
   ]
  },
  {
   "cell_type": "code",
   "execution_count": 5,
   "id": "1b1f592e",
   "metadata": {},
   "outputs": [
    {
     "name": "stderr",
     "output_type": "stream",
     "text": [
      "WARNING:root:Page 0 scraping. Please wait !!!\n"
     ]
    },
    {
     "name": "stdout",
     "output_type": "stream",
     "text": [
      "connection successfull\n"
     ]
    },
    {
     "name": "stderr",
     "output_type": "stream",
     "text": [
      "WARNING:root:Page 1 scraping. Please wait !!!\n",
      "WARNING:root:Page 2 scraping. Please wait !!!\n",
      "WARNING:root:Page 3 scraping. Please wait !!!\n",
      "WARNING:root:Page 4 scraping. Please wait !!!\n",
      "WARNING:root:Page 5 scraping. Please wait !!!\n",
      "WARNING:root:Page 6 scraping. Please wait !!!\n",
      "WARNING:root:Page 7 scraping. Please wait !!!\n",
      "WARNING:root:Page 8 scraping. Please wait !!!\n",
      "WARNING:root:Page 9 scraping. Please wait !!!\n",
      "WARNING:root:Page 10 scraping. Please wait !!!\n",
      "WARNING:root:Page 11 scraping. Please wait !!!\n",
      "WARNING:root:Page 12 scraping. Please wait !!!\n",
      "WARNING:root:Page 13 scraping. Please wait !!!\n",
      "WARNING:root:Page 14 scraping. Please wait !!!\n",
      "WARNING:root:Page 15 scraping. Please wait !!!\n",
      "WARNING:root:Page 16 scraping. Please wait !!!\n",
      "WARNING:root:Page 17 scraping. Please wait !!!\n",
      "WARNING:root:Page 18 scraping. Please wait !!!\n",
      "WARNING:root:Page 19 scraping. Please wait !!!\n",
      "WARNING:root:Page 20 scraping. Please wait !!!\n",
      "WARNING:root:Page 21 scraping. Please wait !!!\n",
      "WARNING:root:Page 22 scraping. Please wait !!!\n",
      "WARNING:root:Page 23 scraping. Please wait !!!\n",
      "WARNING:root:Page 24 scraping. Please wait !!!\n",
      "WARNING:root:Page 25 scraping. Please wait !!!\n",
      "WARNING:root:Page 26 scraping. Please wait !!!\n",
      "WARNING:root:Page 27 scraping. Please wait !!!\n",
      "WARNING:root:Page 28 scraping. Please wait !!!\n",
      "WARNING:root:Page 29 scraping. Please wait !!!\n",
      "WARNING:root:Page 30 scraping. Please wait !!!\n"
     ]
    },
    {
     "name": "stdout",
     "output_type": "stream",
     "text": [
      "Time taken: 28.479916095733643\n",
      "Before multithreading:                                       News description\n",
      "0    Napa Valley was the center of a historic launc...\n",
      "1    On Saturday, December 10, 2022, the National A...\n",
      "2    Ambulatory healthcare service market insights ...\n",
      "3    Tech Soft 3D, the leading provider of engineer...\n",
      "4    In a joint announcement, today TuSimple (NASDA...\n",
      "..                                                 ...\n",
      "770  E-Space, a global space company focused on bri...\n",
      "771  E-Space, a global space company focused on bri...\n",
      "772  The \"Oncology Precision Medicine Market - Glob...\n",
      "773  238 Bitcoin mined, bringing reserves to 8,925 ...\n",
      "774  The Global \"Hydraulic Fluids Market by Base Oi...\n",
      "\n",
      "[775 rows x 1 columns]\n"
     ]
    }
   ],
   "source": [
    "print('Before multithreading:',obj.news_parse())"
   ]
  },
  {
   "cell_type": "code",
   "execution_count": 6,
   "id": "d42d7fc8",
   "metadata": {},
   "outputs": [
    {
     "name": "stdout",
     "output_type": "stream",
     "text": [
      "connection successfull\n"
     ]
    },
    {
     "name": "stderr",
     "output_type": "stream",
     "text": [
      "WARNING:root:Page 0 scraping. Please wait !!!\n",
      "WARNING:root:Page 1 scraping. Please wait !!!\n",
      "WARNING:root:Page 2 scraping. Please wait !!!\n",
      "WARNING:root:Page 3 scraping. Please wait !!!\n",
      "WARNING:root:Page 4 scraping. Please wait !!!\n",
      "WARNING:root:Page 5 scraping. Please wait !!!\n",
      "WARNING:root:Page 6 scraping. Please wait !!!\n",
      "WARNING:root:Page 7 scraping. Please wait !!!\n",
      "WARNING:root:Page 8 scraping. Please wait !!!\n",
      "WARNING:root:Page 9 scraping. Please wait !!!\n",
      "WARNING:root:Page 10 scraping. Please wait !!!\n",
      "WARNING:root:Page 11 scraping. Please wait !!!\n",
      "WARNING:root:Page 12 scraping. Please wait !!!\n",
      "WARNING:root:Page 13 scraping. Please wait !!!\n",
      "WARNING:root:Page 14 scraping. Please wait !!!\n",
      "WARNING:root:Page 15 scraping. Please wait !!!\n",
      "WARNING:root:Page 16 scraping. Please wait !!!\n",
      "WARNING:root:Page 17 scraping. Please wait !!!\n",
      "WARNING:root:Page 18 scraping. Please wait !!!\n",
      "WARNING:root:Page 19 scraping. Please wait !!!\n",
      "WARNING:root:Page 20 scraping. Please wait !!!\n",
      "WARNING:root:Page 21 scraping. Please wait !!!\n",
      "WARNING:root:Page 22 scraping. Please wait !!!\n",
      "WARNING:root:Page 23 scraping. Please wait !!!\n",
      "WARNING:root:Page 24 scraping. Please wait !!!\n",
      "WARNING:root:Page 25 scraping. Please wait !!!\n",
      "WARNING:root:Page 26 scraping. Please wait !!!\n",
      "WARNING:root:Page 27 scraping. Please wait !!!\n",
      "WARNING:root:Page 28 scraping. Please wait !!!\n",
      "WARNING:root:Page 29 scraping. Please wait !!!\n",
      "WARNING:root:Page 30 scraping. Please wait !!!\n"
     ]
    },
    {
     "name": "stdout",
     "output_type": "stream",
     "text": [
      "Time taken: 7.814834117889404\n"
     ]
    }
   ],
   "source": [
    "with concurrent.futures.ThreadPoolExecutor(max_workers=500) as p:\n",
    "    p.map('Taken taken after multithreading',obj.news_parse())"
   ]
  },
  {
   "cell_type": "code",
   "execution_count": null,
   "id": "fb087f64",
   "metadata": {},
   "outputs": [],
   "source": []
  },
  {
   "cell_type": "code",
   "execution_count": null,
   "id": "468275d9",
   "metadata": {},
   "outputs": [],
   "source": []
  },
  {
   "cell_type": "code",
   "execution_count": null,
   "id": "61590b1c",
   "metadata": {},
   "outputs": [],
   "source": []
  },
  {
   "cell_type": "code",
   "execution_count": null,
   "id": "b6ab5534",
   "metadata": {},
   "outputs": [],
   "source": []
  },
  {
   "cell_type": "code",
   "execution_count": null,
   "id": "afc2d054",
   "metadata": {},
   "outputs": [],
   "source": []
  },
  {
   "cell_type": "code",
   "execution_count": null,
   "id": "f806ce31",
   "metadata": {},
   "outputs": [],
   "source": []
  },
  {
   "cell_type": "code",
   "execution_count": null,
   "id": "386adf26",
   "metadata": {},
   "outputs": [],
   "source": []
  },
  {
   "cell_type": "code",
   "execution_count": null,
   "id": "e818f416",
   "metadata": {},
   "outputs": [],
   "source": []
  },
  {
   "cell_type": "code",
   "execution_count": null,
   "id": "5e65973b",
   "metadata": {},
   "outputs": [],
   "source": []
  },
  {
   "cell_type": "code",
   "execution_count": null,
   "id": "a0d53d79",
   "metadata": {},
   "outputs": [],
   "source": []
  },
  {
   "cell_type": "code",
   "execution_count": null,
   "id": "38cb0802",
   "metadata": {},
   "outputs": [],
   "source": []
  },
  {
   "cell_type": "code",
   "execution_count": null,
   "id": "7377a68d",
   "metadata": {},
   "outputs": [],
   "source": []
  }
 ],
 "metadata": {
  "kernelspec": {
   "display_name": "Python 3 (ipykernel)",
   "language": "python",
   "name": "python3"
  },
  "language_info": {
   "codemirror_mode": {
    "name": "ipython",
    "version": 3
   },
   "file_extension": ".py",
   "mimetype": "text/x-python",
   "name": "python",
   "nbconvert_exporter": "python",
   "pygments_lexer": "ipython3",
   "version": "3.9.12"
  }
 },
 "nbformat": 4,
 "nbformat_minor": 5
}
