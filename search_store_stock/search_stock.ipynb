{
 "cells": [
  {
   "cell_type": "code",
   "execution_count": 1,
   "id": "1ed783f8",
   "metadata": {},
   "outputs": [],
   "source": [
    "import pandas as pd\n",
    "import numpy as np"
   ]
  },
  {
   "cell_type": "code",
   "execution_count": 2,
   "id": "e48ebb82",
   "metadata": {},
   "outputs": [],
   "source": [
    "class search_stock():\n",
    "#read the csv file stored from the directory\n",
    "    def stock(self,data): # will pass the csv data or could have used self.df\n",
    "        stock=[]\n",
    "        for i in data['News description']:\n",
    "            if 'TSX' in i:  # looking for tsx in the column\n",
    "                stock.append(i)\n",
    "        self.stock_df=pd.DataFrame(stock,columns=['Stock keywords']) # creating a dataframe after searching for stock\n",
    "        self.stock_df.to_csv('../data_storage/stock_news.csv') # writing to stock_news\n",
    "        return self.stock_df\n",
    "    \n",
    "    def storing_stock_symbols(self,stock_names):\n",
    "        self.stock_names=stock_names\n",
    "        #below creating a unique list of stock symbols\n",
    "        stock_list=set(self.stock_df['Stock keywords'].str.extract('TSX:\\s*(\\w+)')[0].tolist())\n",
    "        stock_list=list(stock_list)\n",
    "        for i in stock_list: \n",
    "            if type(i) != float:\n",
    "                stock_names.append(i)\n",
    "            stock_csv=pd.DataFrame(stock_names,columns=['Ticker_Symbol_tsx'])\n",
    "        print(stock_csv)\n",
    "        stock_csv.to_csv(\"../data_storage/stock_ticker.csv\")\n",
    "        return stock_names\n",
    "    "
   ]
  },
  {
   "cell_type": "code",
   "execution_count": 3,
   "id": "e4cba0ba",
   "metadata": {},
   "outputs": [],
   "source": [
    "obj=search_stock()"
   ]
  },
  {
   "cell_type": "code",
   "execution_count": 4,
   "id": "c95580c1",
   "metadata": {},
   "outputs": [
    {
     "data": {
      "text/html": [
       "<div>\n",
       "<style scoped>\n",
       "    .dataframe tbody tr th:only-of-type {\n",
       "        vertical-align: middle;\n",
       "    }\n",
       "\n",
       "    .dataframe tbody tr th {\n",
       "        vertical-align: top;\n",
       "    }\n",
       "\n",
       "    .dataframe thead th {\n",
       "        text-align: right;\n",
       "    }\n",
       "</style>\n",
       "<table border=\"1\" class=\"dataframe\">\n",
       "  <thead>\n",
       "    <tr style=\"text-align: right;\">\n",
       "      <th></th>\n",
       "      <th>Stock keywords</th>\n",
       "    </tr>\n",
       "  </thead>\n",
       "  <tbody>\n",
       "    <tr>\n",
       "      <th>0</th>\n",
       "      <td>Dorel Juvenile, a segment of Dorel Industries ...</td>\n",
       "    </tr>\n",
       "    <tr>\n",
       "      <th>1</th>\n",
       "      <td>Oncolytics Biotech® Inc.'s (NASDAQ: ONCY) (TSX...</td>\n",
       "    </tr>\n",
       "    <tr>\n",
       "      <th>2</th>\n",
       "      <td>MADISON, Wis. and WILMINGTON, Mass, Dec. 8, 20...</td>\n",
       "    </tr>\n",
       "    <tr>\n",
       "      <th>3</th>\n",
       "      <td>C$ unless otherwise stated TSX/NYSE/PSE: MFC S...</td>\n",
       "    </tr>\n",
       "    <tr>\n",
       "      <th>4</th>\n",
       "      <td>Angel Gold Corp. (TSX.V: ANG) (\"Angel Gold\" or...</td>\n",
       "    </tr>\n",
       "    <tr>\n",
       "      <th>5</th>\n",
       "      <td>Angel Gold Corp. (TSX.V: ANG) (\"Angel Gold\" or...</td>\n",
       "    </tr>\n",
       "    <tr>\n",
       "      <th>6</th>\n",
       "      <td>Zoomd Technologies Ltd. (TSXV: ZOMD) (OTC: ZMD...</td>\n",
       "    </tr>\n",
       "    <tr>\n",
       "      <th>7</th>\n",
       "      <td>TORONTO, Dec. 8, 2022 /PRNewswire/ - Denison M...</td>\n",
       "    </tr>\n",
       "    <tr>\n",
       "      <th>8</th>\n",
       "      <td>VANCOUVER, BC, Dec. 8, 2022 /PRNewswire/ - Rev...</td>\n",
       "    </tr>\n",
       "    <tr>\n",
       "      <th>9</th>\n",
       "      <td>Parkland Corporation (\"Parkland\", \"we\", \"our\",...</td>\n",
       "    </tr>\n",
       "    <tr>\n",
       "      <th>10</th>\n",
       "      <td>BlackBerry Limited (NYSE: BB; TSX: BB) today a...</td>\n",
       "    </tr>\n",
       "    <tr>\n",
       "      <th>11</th>\n",
       "      <td>VANCOUVER, BC, Dec. 7, 2022 /PRNewswire/ - Hap...</td>\n",
       "    </tr>\n",
       "    <tr>\n",
       "      <th>12</th>\n",
       "      <td>VANCOUVER, BC, Dec. 7, 2022 /PRNewswire/ - Hap...</td>\n",
       "    </tr>\n",
       "    <tr>\n",
       "      <th>13</th>\n",
       "      <td>TORONTO, Dec. 7, 2022 /PRNewswire/ - Equitable...</td>\n",
       "    </tr>\n",
       "  </tbody>\n",
       "</table>\n",
       "</div>"
      ],
      "text/plain": [
       "                                       Stock keywords\n",
       "0   Dorel Juvenile, a segment of Dorel Industries ...\n",
       "1   Oncolytics Biotech® Inc.'s (NASDAQ: ONCY) (TSX...\n",
       "2   MADISON, Wis. and WILMINGTON, Mass, Dec. 8, 20...\n",
       "3   C$ unless otherwise stated TSX/NYSE/PSE: MFC S...\n",
       "4   Angel Gold Corp. (TSX.V: ANG) (\"Angel Gold\" or...\n",
       "5   Angel Gold Corp. (TSX.V: ANG) (\"Angel Gold\" or...\n",
       "6   Zoomd Technologies Ltd. (TSXV: ZOMD) (OTC: ZMD...\n",
       "7   TORONTO, Dec. 8, 2022 /PRNewswire/ - Denison M...\n",
       "8   VANCOUVER, BC, Dec. 8, 2022 /PRNewswire/ - Rev...\n",
       "9   Parkland Corporation (\"Parkland\", \"we\", \"our\",...\n",
       "10  BlackBerry Limited (NYSE: BB; TSX: BB) today a...\n",
       "11  VANCOUVER, BC, Dec. 7, 2022 /PRNewswire/ - Hap...\n",
       "12  VANCOUVER, BC, Dec. 7, 2022 /PRNewswire/ - Hap...\n",
       "13  TORONTO, Dec. 7, 2022 /PRNewswire/ - Equitable..."
      ]
     },
     "execution_count": 4,
     "metadata": {},
     "output_type": "execute_result"
    }
   ],
   "source": [
    "obj.stock(data=pd.read_csv('../data_storage/datanews.csv'))"
   ]
  },
  {
   "cell_type": "code",
   "execution_count": 5,
   "id": "e98fd749",
   "metadata": {},
   "outputs": [
    {
     "name": "stdout",
     "output_type": "stream",
     "text": [
      "  Ticker_Symbol_tsx\n",
      "0                BB\n",
      "1               PKI\n",
      "2               DII\n",
      "3               DML\n",
      "4               ONC\n",
      "5               EQB\n"
     ]
    },
    {
     "data": {
      "text/plain": [
       "['BB', 'PKI', 'DII', 'DML', 'ONC', 'EQB']"
      ]
     },
     "execution_count": 5,
     "metadata": {},
     "output_type": "execute_result"
    }
   ],
   "source": [
    "obj.storing_stock_symbols([])"
   ]
  },
  {
   "cell_type": "code",
   "execution_count": 6,
   "id": "01f408a9",
   "metadata": {},
   "outputs": [
    {
     "data": {
      "text/html": [
       "<div>\n",
       "<style scoped>\n",
       "    .dataframe tbody tr th:only-of-type {\n",
       "        vertical-align: middle;\n",
       "    }\n",
       "\n",
       "    .dataframe tbody tr th {\n",
       "        vertical-align: top;\n",
       "    }\n",
       "\n",
       "    .dataframe thead th {\n",
       "        text-align: right;\n",
       "    }\n",
       "</style>\n",
       "<table border=\"1\" class=\"dataframe\">\n",
       "  <thead>\n",
       "    <tr style=\"text-align: right;\">\n",
       "      <th></th>\n",
       "      <th>Unnamed: 0</th>\n",
       "      <th>Ticker_Symbol_tsx</th>\n",
       "    </tr>\n",
       "  </thead>\n",
       "  <tbody>\n",
       "    <tr>\n",
       "      <th>0</th>\n",
       "      <td>0</td>\n",
       "      <td>BB</td>\n",
       "    </tr>\n",
       "    <tr>\n",
       "      <th>1</th>\n",
       "      <td>1</td>\n",
       "      <td>PKI</td>\n",
       "    </tr>\n",
       "    <tr>\n",
       "      <th>2</th>\n",
       "      <td>2</td>\n",
       "      <td>DII</td>\n",
       "    </tr>\n",
       "    <tr>\n",
       "      <th>3</th>\n",
       "      <td>3</td>\n",
       "      <td>DML</td>\n",
       "    </tr>\n",
       "    <tr>\n",
       "      <th>4</th>\n",
       "      <td>4</td>\n",
       "      <td>ONC</td>\n",
       "    </tr>\n",
       "    <tr>\n",
       "      <th>5</th>\n",
       "      <td>5</td>\n",
       "      <td>EQB</td>\n",
       "    </tr>\n",
       "  </tbody>\n",
       "</table>\n",
       "</div>"
      ],
      "text/plain": [
       "   Unnamed: 0 Ticker_Symbol_tsx\n",
       "0           0                BB\n",
       "1           1               PKI\n",
       "2           2               DII\n",
       "3           3               DML\n",
       "4           4               ONC\n",
       "5           5               EQB"
      ]
     },
     "execution_count": 6,
     "metadata": {},
     "output_type": "execute_result"
    }
   ],
   "source": [
    "pd.read_csv('../data_storage/stock_ticker.csv')"
   ]
  }
 ],
 "metadata": {
  "kernelspec": {
   "display_name": "Python 3 (ipykernel)",
   "language": "python",
   "name": "python3"
  },
  "language_info": {
   "codemirror_mode": {
    "name": "ipython",
    "version": 3
   },
   "file_extension": ".py",
   "mimetype": "text/x-python",
   "name": "python",
   "nbconvert_exporter": "python",
   "pygments_lexer": "ipython3",
   "version": "3.9.12"
  },
  "vscode": {
   "interpreter": {
    "hash": "31f2aee4e71d21fbe5cf8b01ff0e069b9275f58929596ceb00d14d90e3e16cd6"
   }
  }
 },
 "nbformat": 4,
 "nbformat_minor": 5
}
