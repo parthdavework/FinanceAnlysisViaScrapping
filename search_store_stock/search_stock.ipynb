{
 "cells": [
  {
   "cell_type": "code",
   "execution_count": 76,
   "id": "1ed783f8",
   "metadata": {},
   "outputs": [],
   "source": [
    "import pandas as pd\n",
    "import numpy as np"
   ]
  },
  {
   "cell_type": "code",
   "execution_count": 92,
   "id": "e48ebb82",
   "metadata": {},
   "outputs": [],
   "source": [
    "class search_stock():\n",
    "#read the csv file stored from the directory\n",
    "    def stock(self,data): # will pass the csv data or could have used self.df\n",
    "        stock=[]\n",
    "        for i in data['News description']:\n",
    "            if 'TSX' in i:  # looking for tsx in the column\n",
    "                stock.append(i)\n",
    "        self.stock_df=pd.DataFrame(stock,columns=['Stock keywords']) # creating a dataframe after searching for stock\n",
    "        self.stock_df.to_csv('stock_news.csv') # writing to stock_news\n",
    "        return self.stock_df\n",
    "    \n",
    "    def storing_stock_symbols(self,stock_names):\n",
    "        self.stock_names=stock_names\n",
    "        #below creating a unique list of stock symbols\n",
    "        stock_list=set(self.stock_df['Stock keywords'].str.extract('TSX:\\s*(\\w+)')[0].tolist())\n",
    "        stock_list=list(stock_list)\n",
    "        for i in stock_list: \n",
    "            if type(i) != float:\n",
    "                stock_names.append(i)\n",
    "            stock_csv=pd.DataFrame(stock_names,columns=['Ticker_Symbol_tsx'])\n",
    "        print(stock_csv)\n",
    "        stock_csv.to_csv(\"stock_ticker.csv\")\n",
    "        return stock_names\n",
    "    "
   ]
  },
  {
   "cell_type": "code",
   "execution_count": 93,
   "id": "e4cba0ba",
   "metadata": {},
   "outputs": [],
   "source": [
    "obj=search_stock()"
   ]
  },
  {
   "cell_type": "code",
   "execution_count": 94,
   "id": "c95580c1",
   "metadata": {},
   "outputs": [
    {
     "data": {
      "text/html": [
       "<div>\n",
       "<style scoped>\n",
       "    .dataframe tbody tr th:only-of-type {\n",
       "        vertical-align: middle;\n",
       "    }\n",
       "\n",
       "    .dataframe tbody tr th {\n",
       "        vertical-align: top;\n",
       "    }\n",
       "\n",
       "    .dataframe thead th {\n",
       "        text-align: right;\n",
       "    }\n",
       "</style>\n",
       "<table border=\"1\" class=\"dataframe\">\n",
       "  <thead>\n",
       "    <tr style=\"text-align: right;\">\n",
       "      <th></th>\n",
       "      <th>Stock keywords</th>\n",
       "    </tr>\n",
       "  </thead>\n",
       "  <tbody>\n",
       "    <tr>\n",
       "      <th>0</th>\n",
       "      <td>GreenPower Motor Company Inc. (NASDAQ: GP) (TS...</td>\n",
       "    </tr>\n",
       "    <tr>\n",
       "      <th>1</th>\n",
       "      <td>VANCOUVER, BC, Dec. 5, 2022 /PRNewswire/ - Fos...</td>\n",
       "    </tr>\n",
       "    <tr>\n",
       "      <th>2</th>\n",
       "      <td>CALGARY, AB, Dec. 5, 2022 /PRNewswire/ - Pembi...</td>\n",
       "    </tr>\n",
       "    <tr>\n",
       "      <th>3</th>\n",
       "      <td>CALGARY, AB, Dec. 5, 2022 /PRNewswire/ - Horiz...</td>\n",
       "    </tr>\n",
       "    <tr>\n",
       "      <th>4</th>\n",
       "      <td>$ unless otherwise stated TSX/NYSE/PSE: MFC SE...</td>\n",
       "    </tr>\n",
       "    <tr>\n",
       "      <th>5</th>\n",
       "      <td>VANCOUVER, BC, Dec. 5, 2022 /PRNewswire/ - Min...</td>\n",
       "    </tr>\n",
       "    <tr>\n",
       "      <th>6</th>\n",
       "      <td>VANCOUVER, BC, Dec. 5, 2022 /PRNewswire/ - New...</td>\n",
       "    </tr>\n",
       "    <tr>\n",
       "      <th>7</th>\n",
       "      <td>TORONTO, Dec. 5, 2022 /PRNewswire/ - Sun Life ...</td>\n",
       "    </tr>\n",
       "    <tr>\n",
       "      <th>8</th>\n",
       "      <td>VANCOUVER, BC, Dec. 5, 2022 /PRNewswire/ - New...</td>\n",
       "    </tr>\n",
       "    <tr>\n",
       "      <th>9</th>\n",
       "      <td>Investor Webinar scheduled for Wednesday, Dece...</td>\n",
       "    </tr>\n",
       "    <tr>\n",
       "      <th>10</th>\n",
       "      <td>NASDAQ | TSX: ACB Balance Sheet Remains in Net...</td>\n",
       "    </tr>\n",
       "    <tr>\n",
       "      <th>11</th>\n",
       "      <td>Investor Webinar scheduled for Wednesday, Dece...</td>\n",
       "    </tr>\n",
       "  </tbody>\n",
       "</table>\n",
       "</div>"
      ],
      "text/plain": [
       "                                       Stock keywords\n",
       "0   GreenPower Motor Company Inc. (NASDAQ: GP) (TS...\n",
       "1   VANCOUVER, BC, Dec. 5, 2022 /PRNewswire/ - Fos...\n",
       "2   CALGARY, AB, Dec. 5, 2022 /PRNewswire/ - Pembi...\n",
       "3   CALGARY, AB, Dec. 5, 2022 /PRNewswire/ - Horiz...\n",
       "4   $ unless otherwise stated TSX/NYSE/PSE: MFC SE...\n",
       "5   VANCOUVER, BC, Dec. 5, 2022 /PRNewswire/ - Min...\n",
       "6   VANCOUVER, BC, Dec. 5, 2022 /PRNewswire/ - New...\n",
       "7   TORONTO, Dec. 5, 2022 /PRNewswire/ - Sun Life ...\n",
       "8   VANCOUVER, BC, Dec. 5, 2022 /PRNewswire/ - New...\n",
       "9   Investor Webinar scheduled for Wednesday, Dece...\n",
       "10  NASDAQ | TSX: ACB Balance Sheet Remains in Net...\n",
       "11  Investor Webinar scheduled for Wednesday, Dece..."
      ]
     },
     "execution_count": 94,
     "metadata": {},
     "output_type": "execute_result"
    }
   ],
   "source": [
    "obj.stock(data=pd.read_csv('../data_storage/datanews.csv'))"
   ]
  },
  {
   "cell_type": "code",
   "execution_count": 95,
   "id": "e98fd749",
   "metadata": {},
   "outputs": [
    {
     "name": "stdout",
     "output_type": "stream",
     "text": [
      "  Ticker_Symbol_tsx\n",
      "0              NUAG\n",
      "1               PPL\n",
      "2               SLF\n",
      "3               ACB\n"
     ]
    },
    {
     "data": {
      "text/plain": [
       "['NUAG', 'PPL', 'SLF', 'ACB']"
      ]
     },
     "execution_count": 95,
     "metadata": {},
     "output_type": "execute_result"
    }
   ],
   "source": [
    "obj.storing_stock_symbols([])"
   ]
  },
  {
   "cell_type": "code",
   "execution_count": null,
   "id": "01f408a9",
   "metadata": {},
   "outputs": [],
   "source": []
  }
 ],
 "metadata": {
  "kernelspec": {
   "display_name": "Python 3 (ipykernel)",
   "language": "python",
   "name": "python3"
  },
  "language_info": {
   "codemirror_mode": {
    "name": "ipython",
    "version": 3
   },
   "file_extension": ".py",
   "mimetype": "text/x-python",
   "name": "python",
   "nbconvert_exporter": "python",
   "pygments_lexer": "ipython3",
   "version": "3.9.12"
  }
 },
 "nbformat": 4,
 "nbformat_minor": 5
}
